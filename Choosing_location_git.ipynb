{
 "cells": [
  {
   "cell_type": "markdown",
   "id": "2dd42236",
   "metadata": {},
   "source": [
    "# Выбор локации для скважины\n",
    "\n",
    "Допустим, вы работаете в добывающей компании «ГлавРосГосНефть». Нужно решить, где бурить новую скважину.\n",
    "\n",
    "Вам предоставлены пробы нефти в трёх регионах: в каждом 10 000 месторождений, где измерили качество нефти и объём её запасов. Постройте модель машинного обучения, которая поможет определить регион, где добыча принесёт наибольшую прибыль. Проанализируйте возможную прибыль и риски техникой Bootstrap.\n",
    "\n",
    "**Шаги для выбора локации:**\n",
    "\n",
    "В избранном регионе ищут месторождения, для каждого определяют значения признаков;\n",
    "\n",
    "Строят модель и оценивают объём запасов;\n",
    "\n",
    "Выбирают месторождения с самым высокими оценками значений. Количество месторождений зависит от бюджета компании и стоимости разработки одной скважины;\n",
    "\n",
    "Прибыль равна суммарной прибыли отобранных месторождений.\n",
    "\n",
    "**Описание данных**\n",
    "\n",
    "Данные геологоразведки трёх регионов находятся в файлах: \n",
    "/datasets/geo_data_0.csv. \n",
    "/datasets/geo_data_1.csv. \n",
    "/datasets/geo_data_2.csv. \n",
    "\n",
    "id — уникальный идентификатор скважины;\n",
    "\n",
    "f0, f1, f2 — три признака точек (неважно, что они означают, но сами признаки значимы);\n",
    "\n",
    "product — объём запасов в скважине (тыс. баррелей).\n",
    "\n",
    "**Условия задачи:** \n",
    "Для обучения модели подходит только линейная регрессия (остальные — недостаточно предсказуемые).\n",
    "\n",
    "При разведке региона исследуют 500 точек, из которых с помощью машинного обучения выбирают 200 лучших для разработки.\n",
    "\n",
    "Бюджет на разработку скважин в регионе — 10 млрд рублей.\n",
    "\n",
    "При нынешних ценах один баррель сырья приносит 450 рублей дохода. Доход с каждой единицы продукта составляет 450 тыс. рублей, поскольку объём указан в тысячах баррелей.\n",
    "\n",
    "После оценки рисков нужно оставить лишь те регионы, в которых вероятность убытков меньше 2.5%. Среди них выбирают регион с наибольшей средней прибылью.\n",
    "\n",
    "Данные синтетические: детали контрактов и характеристики месторождений не разглашаются."
   ]
  },
  {
   "cell_type": "code",
   "execution_count": 1,
   "id": "cfc5e613",
   "metadata": {},
   "outputs": [],
   "source": [
    "import pandas as pd\n",
    "from sklearn.model_selection import train_test_split\n",
    "from sklearn.linear_model import LinearRegression\n",
    "from sklearn.metrics import mean_squared_error\n",
    "import numpy as np"
   ]
  },
  {
   "cell_type": "code",
   "execution_count": 2,
   "id": "940f943b",
   "metadata": {},
   "outputs": [],
   "source": [
    "BUDGET = 10000000000 # бюджет на регион\n",
    "N = 500 # число скважин для исследолвания\n",
    "COUNT = 200 # число скважин для разработки\n",
    "COST_BAR = 450000 # стоимость 1000 баррелей"
   ]
  },
  {
   "cell_type": "markdown",
   "id": "b8c99b87",
   "metadata": {},
   "source": [
    "## Загрузка и подготовка данных"
   ]
  },
  {
   "cell_type": "markdown",
   "id": "2e1a47e8",
   "metadata": {},
   "source": [
    "### Напишем функцию для получения информации о датасете (вывод первых пяти срок, общей информации методом info(), описания информации в столбцах методом discribe(), построение гистограмм для визуализации распределения данных в столбцах)."
   ]
  },
  {
   "cell_type": "code",
   "execution_count": 3,
   "id": "a528f10a",
   "metadata": {},
   "outputs": [],
   "source": [
    "def get_info(data):\n",
    "    display(data.head())\n",
    "    display(data.info())\n",
    "    display(data.describe())\n",
    "    display(data.duplicated().sum())\n",
    "    display(data.isna().sum())\n",
    "    display(data['id'].value_counts())\n",
    "    display(data.corr())\n",
    "    data.hist(figsize=(8, 8))"
   ]
  },
  {
   "cell_type": "markdown",
   "id": "b5c1741c",
   "metadata": {},
   "source": [
    "### Cчитываем данные из файлов и сохраняем их в переменные  df_0, df_1 b df_2 соответсвенно, получаем общую информацию о датафреймах с помощью функции get_info(data)"
   ]
  },
  {
   "cell_type": "code",
   "execution_count": 4,
   "id": "a52597bf",
   "metadata": {},
   "outputs": [
    {
     "data": {
      "text/html": [
       "<div>\n",
       "<style scoped>\n",
       "    .dataframe tbody tr th:only-of-type {\n",
       "        vertical-align: middle;\n",
       "    }\n",
       "\n",
       "    .dataframe tbody tr th {\n",
       "        vertical-align: top;\n",
       "    }\n",
       "\n",
       "    .dataframe thead th {\n",
       "        text-align: right;\n",
       "    }\n",
       "</style>\n",
       "<table border=\"1\" class=\"dataframe\">\n",
       "  <thead>\n",
       "    <tr style=\"text-align: right;\">\n",
       "      <th></th>\n",
       "      <th>id</th>\n",
       "      <th>f0</th>\n",
       "      <th>f1</th>\n",
       "      <th>f2</th>\n",
       "      <th>product</th>\n",
       "    </tr>\n",
       "  </thead>\n",
       "  <tbody>\n",
       "    <tr>\n",
       "      <th>0</th>\n",
       "      <td>txEyH</td>\n",
       "      <td>0.705745</td>\n",
       "      <td>-0.497823</td>\n",
       "      <td>1.221170</td>\n",
       "      <td>105.280062</td>\n",
       "    </tr>\n",
       "    <tr>\n",
       "      <th>1</th>\n",
       "      <td>2acmU</td>\n",
       "      <td>1.334711</td>\n",
       "      <td>-0.340164</td>\n",
       "      <td>4.365080</td>\n",
       "      <td>73.037750</td>\n",
       "    </tr>\n",
       "    <tr>\n",
       "      <th>2</th>\n",
       "      <td>409Wp</td>\n",
       "      <td>1.022732</td>\n",
       "      <td>0.151990</td>\n",
       "      <td>1.419926</td>\n",
       "      <td>85.265647</td>\n",
       "    </tr>\n",
       "    <tr>\n",
       "      <th>3</th>\n",
       "      <td>iJLyR</td>\n",
       "      <td>-0.032172</td>\n",
       "      <td>0.139033</td>\n",
       "      <td>2.978566</td>\n",
       "      <td>168.620776</td>\n",
       "    </tr>\n",
       "    <tr>\n",
       "      <th>4</th>\n",
       "      <td>Xdl7t</td>\n",
       "      <td>1.988431</td>\n",
       "      <td>0.155413</td>\n",
       "      <td>4.751769</td>\n",
       "      <td>154.036647</td>\n",
       "    </tr>\n",
       "  </tbody>\n",
       "</table>\n",
       "</div>"
      ],
      "text/plain": [
       "      id        f0        f1        f2     product\n",
       "0  txEyH  0.705745 -0.497823  1.221170  105.280062\n",
       "1  2acmU  1.334711 -0.340164  4.365080   73.037750\n",
       "2  409Wp  1.022732  0.151990  1.419926   85.265647\n",
       "3  iJLyR -0.032172  0.139033  2.978566  168.620776\n",
       "4  Xdl7t  1.988431  0.155413  4.751769  154.036647"
      ]
     },
     "metadata": {},
     "output_type": "display_data"
    },
    {
     "name": "stdout",
     "output_type": "stream",
     "text": [
      "<class 'pandas.core.frame.DataFrame'>\n",
      "RangeIndex: 100000 entries, 0 to 99999\n",
      "Data columns (total 5 columns):\n",
      " #   Column   Non-Null Count   Dtype  \n",
      "---  ------   --------------   -----  \n",
      " 0   id       100000 non-null  object \n",
      " 1   f0       100000 non-null  float64\n",
      " 2   f1       100000 non-null  float64\n",
      " 3   f2       100000 non-null  float64\n",
      " 4   product  100000 non-null  float64\n",
      "dtypes: float64(4), object(1)\n",
      "memory usage: 3.8+ MB\n"
     ]
    },
    {
     "data": {
      "text/plain": [
       "None"
      ]
     },
     "metadata": {},
     "output_type": "display_data"
    },
    {
     "data": {
      "text/html": [
       "<div>\n",
       "<style scoped>\n",
       "    .dataframe tbody tr th:only-of-type {\n",
       "        vertical-align: middle;\n",
       "    }\n",
       "\n",
       "    .dataframe tbody tr th {\n",
       "        vertical-align: top;\n",
       "    }\n",
       "\n",
       "    .dataframe thead th {\n",
       "        text-align: right;\n",
       "    }\n",
       "</style>\n",
       "<table border=\"1\" class=\"dataframe\">\n",
       "  <thead>\n",
       "    <tr style=\"text-align: right;\">\n",
       "      <th></th>\n",
       "      <th>f0</th>\n",
       "      <th>f1</th>\n",
       "      <th>f2</th>\n",
       "      <th>product</th>\n",
       "    </tr>\n",
       "  </thead>\n",
       "  <tbody>\n",
       "    <tr>\n",
       "      <th>count</th>\n",
       "      <td>100000.000000</td>\n",
       "      <td>100000.000000</td>\n",
       "      <td>100000.000000</td>\n",
       "      <td>100000.000000</td>\n",
       "    </tr>\n",
       "    <tr>\n",
       "      <th>mean</th>\n",
       "      <td>0.500419</td>\n",
       "      <td>0.250143</td>\n",
       "      <td>2.502647</td>\n",
       "      <td>92.500000</td>\n",
       "    </tr>\n",
       "    <tr>\n",
       "      <th>std</th>\n",
       "      <td>0.871832</td>\n",
       "      <td>0.504433</td>\n",
       "      <td>3.248248</td>\n",
       "      <td>44.288691</td>\n",
       "    </tr>\n",
       "    <tr>\n",
       "      <th>min</th>\n",
       "      <td>-1.408605</td>\n",
       "      <td>-0.848218</td>\n",
       "      <td>-12.088328</td>\n",
       "      <td>0.000000</td>\n",
       "    </tr>\n",
       "    <tr>\n",
       "      <th>25%</th>\n",
       "      <td>-0.072580</td>\n",
       "      <td>-0.200881</td>\n",
       "      <td>0.287748</td>\n",
       "      <td>56.497507</td>\n",
       "    </tr>\n",
       "    <tr>\n",
       "      <th>50%</th>\n",
       "      <td>0.502360</td>\n",
       "      <td>0.250252</td>\n",
       "      <td>2.515969</td>\n",
       "      <td>91.849972</td>\n",
       "    </tr>\n",
       "    <tr>\n",
       "      <th>75%</th>\n",
       "      <td>1.073581</td>\n",
       "      <td>0.700646</td>\n",
       "      <td>4.715088</td>\n",
       "      <td>128.564089</td>\n",
       "    </tr>\n",
       "    <tr>\n",
       "      <th>max</th>\n",
       "      <td>2.362331</td>\n",
       "      <td>1.343769</td>\n",
       "      <td>16.003790</td>\n",
       "      <td>185.364347</td>\n",
       "    </tr>\n",
       "  </tbody>\n",
       "</table>\n",
       "</div>"
      ],
      "text/plain": [
       "                  f0             f1             f2        product\n",
       "count  100000.000000  100000.000000  100000.000000  100000.000000\n",
       "mean        0.500419       0.250143       2.502647      92.500000\n",
       "std         0.871832       0.504433       3.248248      44.288691\n",
       "min        -1.408605      -0.848218     -12.088328       0.000000\n",
       "25%        -0.072580      -0.200881       0.287748      56.497507\n",
       "50%         0.502360       0.250252       2.515969      91.849972\n",
       "75%         1.073581       0.700646       4.715088     128.564089\n",
       "max         2.362331       1.343769      16.003790     185.364347"
      ]
     },
     "metadata": {},
     "output_type": "display_data"
    },
    {
     "data": {
      "text/plain": [
       "0"
      ]
     },
     "metadata": {},
     "output_type": "display_data"
    },
    {
     "data": {
      "text/plain": [
       "id         0\n",
       "f0         0\n",
       "f1         0\n",
       "f2         0\n",
       "product    0\n",
       "dtype: int64"
      ]
     },
     "metadata": {},
     "output_type": "display_data"
    },
    {
     "data": {
      "text/plain": [
       "TtcGQ    2\n",
       "74z30    2\n",
       "fiKDv    2\n",
       "HZww2    2\n",
       "Tdehs    2\n",
       "        ..\n",
       "kYmYL    1\n",
       "7CgA5    1\n",
       "P47wH    1\n",
       "5GDxV    1\n",
       "kA5kc    1\n",
       "Name: id, Length: 99990, dtype: int64"
      ]
     },
     "metadata": {},
     "output_type": "display_data"
    },
    {
     "data": {
      "text/html": [
       "<div>\n",
       "<style scoped>\n",
       "    .dataframe tbody tr th:only-of-type {\n",
       "        vertical-align: middle;\n",
       "    }\n",
       "\n",
       "    .dataframe tbody tr th {\n",
       "        vertical-align: top;\n",
       "    }\n",
       "\n",
       "    .dataframe thead th {\n",
       "        text-align: right;\n",
       "    }\n",
       "</style>\n",
       "<table border=\"1\" class=\"dataframe\">\n",
       "  <thead>\n",
       "    <tr style=\"text-align: right;\">\n",
       "      <th></th>\n",
       "      <th>f0</th>\n",
       "      <th>f1</th>\n",
       "      <th>f2</th>\n",
       "      <th>product</th>\n",
       "    </tr>\n",
       "  </thead>\n",
       "  <tbody>\n",
       "    <tr>\n",
       "      <th>f0</th>\n",
       "      <td>1.000000</td>\n",
       "      <td>-0.440723</td>\n",
       "      <td>-0.003153</td>\n",
       "      <td>0.143536</td>\n",
       "    </tr>\n",
       "    <tr>\n",
       "      <th>f1</th>\n",
       "      <td>-0.440723</td>\n",
       "      <td>1.000000</td>\n",
       "      <td>0.001724</td>\n",
       "      <td>-0.192356</td>\n",
       "    </tr>\n",
       "    <tr>\n",
       "      <th>f2</th>\n",
       "      <td>-0.003153</td>\n",
       "      <td>0.001724</td>\n",
       "      <td>1.000000</td>\n",
       "      <td>0.483663</td>\n",
       "    </tr>\n",
       "    <tr>\n",
       "      <th>product</th>\n",
       "      <td>0.143536</td>\n",
       "      <td>-0.192356</td>\n",
       "      <td>0.483663</td>\n",
       "      <td>1.000000</td>\n",
       "    </tr>\n",
       "  </tbody>\n",
       "</table>\n",
       "</div>"
      ],
      "text/plain": [
       "               f0        f1        f2   product\n",
       "f0       1.000000 -0.440723 -0.003153  0.143536\n",
       "f1      -0.440723  1.000000  0.001724 -0.192356\n",
       "f2      -0.003153  0.001724  1.000000  0.483663\n",
       "product  0.143536 -0.192356  0.483663  1.000000"
      ]
     },
     "metadata": {},
     "output_type": "display_data"
    },
    {
     "data": {
      "image/png": "[encoded data removed]",
      "text/plain": [
       "<Figure size 576x576 with 4 Axes>"
      ]
     },
     "metadata": {
      "needs_background": "light"
     },
     "output_type": "display_data"
    }
   ],
   "source": [
    "#df_0 = pd.read_csv('D:\\Мои Документы\\Desktop\\Материалы по учебе\\Машинное обучение в бизнесе\\geo_data_0.csv')\n",
    "df_0 = pd.read_csv('/datasets/geo_data_0.csv')\n",
    "get_info(df_0)"
   ]
  },
  {
   "cell_type": "code",
   "execution_count": 5,
   "id": "6da2ae47",
   "metadata": {},
   "outputs": [
    {
     "data": {
      "text/html": [
       "<div>\n",
       "<style scoped>\n",
       "    .dataframe tbody tr th:only-of-type {\n",
       "        vertical-align: middle;\n",
       "    }\n",
       "\n",
       "    .dataframe tbody tr th {\n",
       "        vertical-align: top;\n",
       "    }\n",
       "\n",
       "    .dataframe thead th {\n",
       "        text-align: right;\n",
       "    }\n",
       "</style>\n",
       "<table border=\"1\" class=\"dataframe\">\n",
       "  <thead>\n",
       "    <tr style=\"text-align: right;\">\n",
       "      <th></th>\n",
       "      <th>id</th>\n",
       "      <th>f0</th>\n",
       "      <th>f1</th>\n",
       "      <th>f2</th>\n",
       "      <th>product</th>\n",
       "    </tr>\n",
       "  </thead>\n",
       "  <tbody>\n",
       "    <tr>\n",
       "      <th>1364</th>\n",
       "      <td>bxg6G</td>\n",
       "      <td>0.411645</td>\n",
       "      <td>0.856830</td>\n",
       "      <td>-3.653440</td>\n",
       "      <td>73.604260</td>\n",
       "    </tr>\n",
       "    <tr>\n",
       "      <th>3389</th>\n",
       "      <td>A5aEY</td>\n",
       "      <td>-0.039949</td>\n",
       "      <td>0.156872</td>\n",
       "      <td>0.209861</td>\n",
       "      <td>89.249364</td>\n",
       "    </tr>\n",
       "    <tr>\n",
       "      <th>41724</th>\n",
       "      <td>bxg6G</td>\n",
       "      <td>-0.823752</td>\n",
       "      <td>0.546319</td>\n",
       "      <td>3.630479</td>\n",
       "      <td>93.007798</td>\n",
       "    </tr>\n",
       "    <tr>\n",
       "      <th>51970</th>\n",
       "      <td>A5aEY</td>\n",
       "      <td>-0.180335</td>\n",
       "      <td>0.935548</td>\n",
       "      <td>-2.094773</td>\n",
       "      <td>33.020205</td>\n",
       "    </tr>\n",
       "  </tbody>\n",
       "</table>\n",
       "</div>"
      ],
      "text/plain": [
       "          id        f0        f1        f2    product\n",
       "1364   bxg6G  0.411645  0.856830 -3.653440  73.604260\n",
       "3389   A5aEY -0.039949  0.156872  0.209861  89.249364\n",
       "41724  bxg6G -0.823752  0.546319  3.630479  93.007798\n",
       "51970  A5aEY -0.180335  0.935548 -2.094773  33.020205"
      ]
     },
     "execution_count": 5,
     "metadata": {},
     "output_type": "execute_result"
    }
   ],
   "source": [
    "df_0.query('id == \"bxg6G\" or id==\"A5aEY\"')"
   ]
  },
  {
   "cell_type": "markdown",
   "id": "7d9eec4e",
   "metadata": {},
   "source": [
    "#### Вывод: Проанализировав наличие явных дубликатов и неявных дубликатов, можно сказать следующее. Явных дубликатов нет, но встречаются скважины с одинаковым id. Так как при этом яных дубликатов нет и при выборочной прооверке видно, что данные разные, видимо произошла ошибка в маркеровке скважин, поэтому данные оставляем, для обучения и дальнейших исследований id  как таковой роли не играет. Корреляционной зависимости между признаками нет или она небольшая."
   ]
  },
  {
   "cell_type": "code",
   "execution_count": 6,
   "id": "20ef0d28",
   "metadata": {},
   "outputs": [
    {
     "data": {
      "text/html": [
       "<div>\n",
       "<style scoped>\n",
       "    .dataframe tbody tr th:only-of-type {\n",
       "        vertical-align: middle;\n",
       "    }\n",
       "\n",
       "    .dataframe tbody tr th {\n",
       "        vertical-align: top;\n",
       "    }\n",
       "\n",
       "    .dataframe thead th {\n",
       "        text-align: right;\n",
       "    }\n",
       "</style>\n",
       "<table border=\"1\" class=\"dataframe\">\n",
       "  <thead>\n",
       "    <tr style=\"text-align: right;\">\n",
       "      <th></th>\n",
       "      <th>id</th>\n",
       "      <th>f0</th>\n",
       "      <th>f1</th>\n",
       "      <th>f2</th>\n",
       "      <th>product</th>\n",
       "    </tr>\n",
       "  </thead>\n",
       "  <tbody>\n",
       "    <tr>\n",
       "      <th>0</th>\n",
       "      <td>kBEdx</td>\n",
       "      <td>-15.001348</td>\n",
       "      <td>-8.276000</td>\n",
       "      <td>-0.005876</td>\n",
       "      <td>3.179103</td>\n",
       "    </tr>\n",
       "    <tr>\n",
       "      <th>1</th>\n",
       "      <td>62mP7</td>\n",
       "      <td>14.272088</td>\n",
       "      <td>-3.475083</td>\n",
       "      <td>0.999183</td>\n",
       "      <td>26.953261</td>\n",
       "    </tr>\n",
       "    <tr>\n",
       "      <th>2</th>\n",
       "      <td>vyE1P</td>\n",
       "      <td>6.263187</td>\n",
       "      <td>-5.948386</td>\n",
       "      <td>5.001160</td>\n",
       "      <td>134.766305</td>\n",
       "    </tr>\n",
       "    <tr>\n",
       "      <th>3</th>\n",
       "      <td>KcrkZ</td>\n",
       "      <td>-13.081196</td>\n",
       "      <td>-11.506057</td>\n",
       "      <td>4.999415</td>\n",
       "      <td>137.945408</td>\n",
       "    </tr>\n",
       "    <tr>\n",
       "      <th>4</th>\n",
       "      <td>AHL4O</td>\n",
       "      <td>12.702195</td>\n",
       "      <td>-8.147433</td>\n",
       "      <td>5.004363</td>\n",
       "      <td>134.766305</td>\n",
       "    </tr>\n",
       "  </tbody>\n",
       "</table>\n",
       "</div>"
      ],
      "text/plain": [
       "      id         f0         f1        f2     product\n",
       "0  kBEdx -15.001348  -8.276000 -0.005876    3.179103\n",
       "1  62mP7  14.272088  -3.475083  0.999183   26.953261\n",
       "2  vyE1P   6.263187  -5.948386  5.001160  134.766305\n",
       "3  KcrkZ -13.081196 -11.506057  4.999415  137.945408\n",
       "4  AHL4O  12.702195  -8.147433  5.004363  134.766305"
      ]
     },
     "metadata": {},
     "output_type": "display_data"
    },
    {
     "name": "stdout",
     "output_type": "stream",
     "text": [
      "<class 'pandas.core.frame.DataFrame'>\n",
      "RangeIndex: 100000 entries, 0 to 99999\n",
      "Data columns (total 5 columns):\n",
      " #   Column   Non-Null Count   Dtype  \n",
      "---  ------   --------------   -----  \n",
      " 0   id       100000 non-null  object \n",
      " 1   f0       100000 non-null  float64\n",
      " 2   f1       100000 non-null  float64\n",
      " 3   f2       100000 non-null  float64\n",
      " 4   product  100000 non-null  float64\n",
      "dtypes: float64(4), object(1)\n",
      "memory usage: 3.8+ MB\n"
     ]
    },
    {
     "data": {
      "text/plain": [
       "None"
      ]
     },
     "metadata": {},
     "output_type": "display_data"
    },
    {
     "data": {
      "text/html": [
       "<div>\n",
       "<style scoped>\n",
       "    .dataframe tbody tr th:only-of-type {\n",
       "        vertical-align: middle;\n",
       "    }\n",
       "\n",
       "    .dataframe tbody tr th {\n",
       "        vertical-align: top;\n",
       "    }\n",
       "\n",
       "    .dataframe thead th {\n",
       "        text-align: right;\n",
       "    }\n",
       "</style>\n",
       "<table border=\"1\" class=\"dataframe\">\n",
       "  <thead>\n",
       "    <tr style=\"text-align: right;\">\n",
       "      <th></th>\n",
       "      <th>f0</th>\n",
       "      <th>f1</th>\n",
       "      <th>f2</th>\n",
       "      <th>product</th>\n",
       "    </tr>\n",
       "  </thead>\n",
       "  <tbody>\n",
       "    <tr>\n",
       "      <th>count</th>\n",
       "      <td>100000.000000</td>\n",
       "      <td>100000.000000</td>\n",
       "      <td>100000.000000</td>\n",
       "      <td>100000.000000</td>\n",
       "    </tr>\n",
       "    <tr>\n",
       "      <th>mean</th>\n",
       "      <td>1.141296</td>\n",
       "      <td>-4.796579</td>\n",
       "      <td>2.494541</td>\n",
       "      <td>68.825000</td>\n",
       "    </tr>\n",
       "    <tr>\n",
       "      <th>std</th>\n",
       "      <td>8.965932</td>\n",
       "      <td>5.119872</td>\n",
       "      <td>1.703572</td>\n",
       "      <td>45.944423</td>\n",
       "    </tr>\n",
       "    <tr>\n",
       "      <th>min</th>\n",
       "      <td>-31.609576</td>\n",
       "      <td>-26.358598</td>\n",
       "      <td>-0.018144</td>\n",
       "      <td>0.000000</td>\n",
       "    </tr>\n",
       "    <tr>\n",
       "      <th>25%</th>\n",
       "      <td>-6.298551</td>\n",
       "      <td>-8.267985</td>\n",
       "      <td>1.000021</td>\n",
       "      <td>26.953261</td>\n",
       "    </tr>\n",
       "    <tr>\n",
       "      <th>50%</th>\n",
       "      <td>1.153055</td>\n",
       "      <td>-4.813172</td>\n",
       "      <td>2.011479</td>\n",
       "      <td>57.085625</td>\n",
       "    </tr>\n",
       "    <tr>\n",
       "      <th>75%</th>\n",
       "      <td>8.621015</td>\n",
       "      <td>-1.332816</td>\n",
       "      <td>3.999904</td>\n",
       "      <td>107.813044</td>\n",
       "    </tr>\n",
       "    <tr>\n",
       "      <th>max</th>\n",
       "      <td>29.421755</td>\n",
       "      <td>18.734063</td>\n",
       "      <td>5.019721</td>\n",
       "      <td>137.945408</td>\n",
       "    </tr>\n",
       "  </tbody>\n",
       "</table>\n",
       "</div>"
      ],
      "text/plain": [
       "                  f0             f1             f2        product\n",
       "count  100000.000000  100000.000000  100000.000000  100000.000000\n",
       "mean        1.141296      -4.796579       2.494541      68.825000\n",
       "std         8.965932       5.119872       1.703572      45.944423\n",
       "min       -31.609576     -26.358598      -0.018144       0.000000\n",
       "25%        -6.298551      -8.267985       1.000021      26.953261\n",
       "50%         1.153055      -4.813172       2.011479      57.085625\n",
       "75%         8.621015      -1.332816       3.999904     107.813044\n",
       "max        29.421755      18.734063       5.019721     137.945408"
      ]
     },
     "metadata": {},
     "output_type": "display_data"
    },
    {
     "data": {
      "text/plain": [
       "0"
      ]
     },
     "metadata": {},
     "output_type": "display_data"
    },
    {
     "data": {
      "text/plain": [
       "id         0\n",
       "f0         0\n",
       "f1         0\n",
       "f2         0\n",
       "product    0\n",
       "dtype: int64"
      ]
     },
     "metadata": {},
     "output_type": "display_data"
    },
    {
     "data": {
      "text/plain": [
       "wt4Uk    2\n",
       "LHZR0    2\n",
       "5ltQ6    2\n",
       "bfPNe    2\n",
       "kNqWQ    1\n",
       "        ..\n",
       "ChYIx    1\n",
       "KD8cr    1\n",
       "gDOtu    1\n",
       "KGUe3    1\n",
       "UziMP    1\n",
       "Name: id, Length: 99996, dtype: int64"
      ]
     },
     "metadata": {},
     "output_type": "display_data"
    },
    {
     "data": {
      "text/html": [
       "<div>\n",
       "<style scoped>\n",
       "    .dataframe tbody tr th:only-of-type {\n",
       "        vertical-align: middle;\n",
       "    }\n",
       "\n",
       "    .dataframe tbody tr th {\n",
       "        vertical-align: top;\n",
       "    }\n",
       "\n",
       "    .dataframe thead th {\n",
       "        text-align: right;\n",
       "    }\n",
       "</style>\n",
       "<table border=\"1\" class=\"dataframe\">\n",
       "  <thead>\n",
       "    <tr style=\"text-align: right;\">\n",
       "      <th></th>\n",
       "      <th>f0</th>\n",
       "      <th>f1</th>\n",
       "      <th>f2</th>\n",
       "      <th>product</th>\n",
       "    </tr>\n",
       "  </thead>\n",
       "  <tbody>\n",
       "    <tr>\n",
       "      <th>f0</th>\n",
       "      <td>1.000000</td>\n",
       "      <td>0.182287</td>\n",
       "      <td>-0.001777</td>\n",
       "      <td>-0.030491</td>\n",
       "    </tr>\n",
       "    <tr>\n",
       "      <th>f1</th>\n",
       "      <td>0.182287</td>\n",
       "      <td>1.000000</td>\n",
       "      <td>-0.002595</td>\n",
       "      <td>-0.010155</td>\n",
       "    </tr>\n",
       "    <tr>\n",
       "      <th>f2</th>\n",
       "      <td>-0.001777</td>\n",
       "      <td>-0.002595</td>\n",
       "      <td>1.000000</td>\n",
       "      <td>0.999397</td>\n",
       "    </tr>\n",
       "    <tr>\n",
       "      <th>product</th>\n",
       "      <td>-0.030491</td>\n",
       "      <td>-0.010155</td>\n",
       "      <td>0.999397</td>\n",
       "      <td>1.000000</td>\n",
       "    </tr>\n",
       "  </tbody>\n",
       "</table>\n",
       "</div>"
      ],
      "text/plain": [
       "               f0        f1        f2   product\n",
       "f0       1.000000  0.182287 -0.001777 -0.030491\n",
       "f1       0.182287  1.000000 -0.002595 -0.010155\n",
       "f2      -0.001777 -0.002595  1.000000  0.999397\n",
       "product -0.030491 -0.010155  0.999397  1.000000"
      ]
     },
     "metadata": {},
     "output_type": "display_data"
    },
    {
     "data": {
      "image/png": "[encoded data removed]",
      "text/plain": [
       "<Figure size 576x576 with 4 Axes>"
      ]
     },
     "metadata": {
      "needs_background": "light"
     },
     "output_type": "display_data"
    }
   ],
   "source": [
    "#df_1 = pd.read_csv('D:\\Мои Документы\\Desktop\\Материалы по учебе\\Машинное обучение в бизнесе\\geo_data_1.csv')\n",
    "df_1 = pd.read_csv('/datasets/geo_data_1.csv')\n",
    "get_info(df_1)"
   ]
  },
  {
   "cell_type": "code",
   "execution_count": 7,
   "id": "f6e4d64d",
   "metadata": {},
   "outputs": [
    {
     "data": {
      "text/html": [
       "<div>\n",
       "<style scoped>\n",
       "    .dataframe tbody tr th:only-of-type {\n",
       "        vertical-align: middle;\n",
       "    }\n",
       "\n",
       "    .dataframe tbody tr th {\n",
       "        vertical-align: top;\n",
       "    }\n",
       "\n",
       "    .dataframe thead th {\n",
       "        text-align: right;\n",
       "    }\n",
       "</style>\n",
       "<table border=\"1\" class=\"dataframe\">\n",
       "  <thead>\n",
       "    <tr style=\"text-align: right;\">\n",
       "      <th></th>\n",
       "      <th>id</th>\n",
       "      <th>f0</th>\n",
       "      <th>f1</th>\n",
       "      <th>f2</th>\n",
       "      <th>product</th>\n",
       "    </tr>\n",
       "  </thead>\n",
       "  <tbody>\n",
       "    <tr>\n",
       "      <th>5849</th>\n",
       "      <td>5ltQ6</td>\n",
       "      <td>-3.435401</td>\n",
       "      <td>-12.296043</td>\n",
       "      <td>1.999796</td>\n",
       "      <td>57.085625</td>\n",
       "    </tr>\n",
       "    <tr>\n",
       "      <th>47591</th>\n",
       "      <td>wt4Uk</td>\n",
       "      <td>-9.091098</td>\n",
       "      <td>-8.109279</td>\n",
       "      <td>-0.002314</td>\n",
       "      <td>3.179103</td>\n",
       "    </tr>\n",
       "    <tr>\n",
       "      <th>82873</th>\n",
       "      <td>wt4Uk</td>\n",
       "      <td>10.259972</td>\n",
       "      <td>-9.376355</td>\n",
       "      <td>4.994297</td>\n",
       "      <td>134.766305</td>\n",
       "    </tr>\n",
       "    <tr>\n",
       "      <th>84461</th>\n",
       "      <td>5ltQ6</td>\n",
       "      <td>18.213839</td>\n",
       "      <td>2.191999</td>\n",
       "      <td>3.993869</td>\n",
       "      <td>107.813044</td>\n",
       "    </tr>\n",
       "  </tbody>\n",
       "</table>\n",
       "</div>"
      ],
      "text/plain": [
       "          id         f0         f1        f2     product\n",
       "5849   5ltQ6  -3.435401 -12.296043  1.999796   57.085625\n",
       "47591  wt4Uk  -9.091098  -8.109279 -0.002314    3.179103\n",
       "82873  wt4Uk  10.259972  -9.376355  4.994297  134.766305\n",
       "84461  5ltQ6  18.213839   2.191999  3.993869  107.813044"
      ]
     },
     "execution_count": 7,
     "metadata": {},
     "output_type": "execute_result"
    }
   ],
   "source": [
    "df_1.query('id == \"5ltQ6\" or id==\"wt4Uk\"')"
   ]
  },
  {
   "cell_type": "markdown",
   "id": "675e558e",
   "metadata": {},
   "source": [
    "#### Вывод: Проанализировав наличие явных дубликатов и неявных дубликатов, можно сказать следующее. Явных дубликатов нет, но встречаются скважины с одинаковым id. Так как при этом яных дубликатов нет и при выборочной прооверке видно, что данные разные, видимо произошла ошибка в маркеровке скважин, поэтому данные оставляем, для обучения и дальнейших исследований id  как таковой роли не играет. Корреляционной зависимости между признаками нет. Распределение признака  f2 и данных в столбце product далеко от нормального, но при этом выбрасов в них нет. Затрудняюсь ответить, чем это вызвано, особенно в отношении стьолбца f2, т.к. вообще нет данных что это. "
   ]
  },
  {
   "cell_type": "code",
   "execution_count": 8,
   "id": "c71db1d4",
   "metadata": {},
   "outputs": [
    {
     "data": {
      "text/html": [
       "<div>\n",
       "<style scoped>\n",
       "    .dataframe tbody tr th:only-of-type {\n",
       "        vertical-align: middle;\n",
       "    }\n",
       "\n",
       "    .dataframe tbody tr th {\n",
       "        vertical-align: top;\n",
       "    }\n",
       "\n",
       "    .dataframe thead th {\n",
       "        text-align: right;\n",
       "    }\n",
       "</style>\n",
       "<table border=\"1\" class=\"dataframe\">\n",
       "  <thead>\n",
       "    <tr style=\"text-align: right;\">\n",
       "      <th></th>\n",
       "      <th>id</th>\n",
       "      <th>f0</th>\n",
       "      <th>f1</th>\n",
       "      <th>f2</th>\n",
       "      <th>product</th>\n",
       "    </tr>\n",
       "  </thead>\n",
       "  <tbody>\n",
       "    <tr>\n",
       "      <th>0</th>\n",
       "      <td>fwXo0</td>\n",
       "      <td>-1.146987</td>\n",
       "      <td>0.963328</td>\n",
       "      <td>-0.828965</td>\n",
       "      <td>27.758673</td>\n",
       "    </tr>\n",
       "    <tr>\n",
       "      <th>1</th>\n",
       "      <td>WJtFt</td>\n",
       "      <td>0.262778</td>\n",
       "      <td>0.269839</td>\n",
       "      <td>-2.530187</td>\n",
       "      <td>56.069697</td>\n",
       "    </tr>\n",
       "    <tr>\n",
       "      <th>2</th>\n",
       "      <td>ovLUW</td>\n",
       "      <td>0.194587</td>\n",
       "      <td>0.289035</td>\n",
       "      <td>-5.586433</td>\n",
       "      <td>62.871910</td>\n",
       "    </tr>\n",
       "    <tr>\n",
       "      <th>3</th>\n",
       "      <td>q6cA6</td>\n",
       "      <td>2.236060</td>\n",
       "      <td>-0.553760</td>\n",
       "      <td>0.930038</td>\n",
       "      <td>114.572842</td>\n",
       "    </tr>\n",
       "    <tr>\n",
       "      <th>4</th>\n",
       "      <td>WPMUX</td>\n",
       "      <td>-0.515993</td>\n",
       "      <td>1.716266</td>\n",
       "      <td>5.899011</td>\n",
       "      <td>149.600746</td>\n",
       "    </tr>\n",
       "  </tbody>\n",
       "</table>\n",
       "</div>"
      ],
      "text/plain": [
       "      id        f0        f1        f2     product\n",
       "0  fwXo0 -1.146987  0.963328 -0.828965   27.758673\n",
       "1  WJtFt  0.262778  0.269839 -2.530187   56.069697\n",
       "2  ovLUW  0.194587  0.289035 -5.586433   62.871910\n",
       "3  q6cA6  2.236060 -0.553760  0.930038  114.572842\n",
       "4  WPMUX -0.515993  1.716266  5.899011  149.600746"
      ]
     },
     "metadata": {},
     "output_type": "display_data"
    },
    {
     "name": "stdout",
     "output_type": "stream",
     "text": [
      "<class 'pandas.core.frame.DataFrame'>\n",
      "RangeIndex: 100000 entries, 0 to 99999\n",
      "Data columns (total 5 columns):\n",
      " #   Column   Non-Null Count   Dtype  \n",
      "---  ------   --------------   -----  \n",
      " 0   id       100000 non-null  object \n",
      " 1   f0       100000 non-null  float64\n",
      " 2   f1       100000 non-null  float64\n",
      " 3   f2       100000 non-null  float64\n",
      " 4   product  100000 non-null  float64\n",
      "dtypes: float64(4), object(1)\n",
      "memory usage: 3.8+ MB\n"
     ]
    },
    {
     "data": {
      "text/plain": [
       "None"
      ]
     },
     "metadata": {},
     "output_type": "display_data"
    },
    {
     "data": {
      "text/html": [
       "<div>\n",
       "<style scoped>\n",
       "    .dataframe tbody tr th:only-of-type {\n",
       "        vertical-align: middle;\n",
       "    }\n",
       "\n",
       "    .dataframe tbody tr th {\n",
       "        vertical-align: top;\n",
       "    }\n",
       "\n",
       "    .dataframe thead th {\n",
       "        text-align: right;\n",
       "    }\n",
       "</style>\n",
       "<table border=\"1\" class=\"dataframe\">\n",
       "  <thead>\n",
       "    <tr style=\"text-align: right;\">\n",
       "      <th></th>\n",
       "      <th>f0</th>\n",
       "      <th>f1</th>\n",
       "      <th>f2</th>\n",
       "      <th>product</th>\n",
       "    </tr>\n",
       "  </thead>\n",
       "  <tbody>\n",
       "    <tr>\n",
       "      <th>count</th>\n",
       "      <td>100000.000000</td>\n",
       "      <td>100000.000000</td>\n",
       "      <td>100000.000000</td>\n",
       "      <td>100000.000000</td>\n",
       "    </tr>\n",
       "    <tr>\n",
       "      <th>mean</th>\n",
       "      <td>0.002023</td>\n",
       "      <td>-0.002081</td>\n",
       "      <td>2.495128</td>\n",
       "      <td>95.000000</td>\n",
       "    </tr>\n",
       "    <tr>\n",
       "      <th>std</th>\n",
       "      <td>1.732045</td>\n",
       "      <td>1.730417</td>\n",
       "      <td>3.473445</td>\n",
       "      <td>44.749921</td>\n",
       "    </tr>\n",
       "    <tr>\n",
       "      <th>min</th>\n",
       "      <td>-8.760004</td>\n",
       "      <td>-7.084020</td>\n",
       "      <td>-11.970335</td>\n",
       "      <td>0.000000</td>\n",
       "    </tr>\n",
       "    <tr>\n",
       "      <th>25%</th>\n",
       "      <td>-1.162288</td>\n",
       "      <td>-1.174820</td>\n",
       "      <td>0.130359</td>\n",
       "      <td>59.450441</td>\n",
       "    </tr>\n",
       "    <tr>\n",
       "      <th>50%</th>\n",
       "      <td>0.009424</td>\n",
       "      <td>-0.009482</td>\n",
       "      <td>2.484236</td>\n",
       "      <td>94.925613</td>\n",
       "    </tr>\n",
       "    <tr>\n",
       "      <th>75%</th>\n",
       "      <td>1.158535</td>\n",
       "      <td>1.163678</td>\n",
       "      <td>4.858794</td>\n",
       "      <td>130.595027</td>\n",
       "    </tr>\n",
       "    <tr>\n",
       "      <th>max</th>\n",
       "      <td>7.238262</td>\n",
       "      <td>7.844801</td>\n",
       "      <td>16.739402</td>\n",
       "      <td>190.029838</td>\n",
       "    </tr>\n",
       "  </tbody>\n",
       "</table>\n",
       "</div>"
      ],
      "text/plain": [
       "                  f0             f1             f2        product\n",
       "count  100000.000000  100000.000000  100000.000000  100000.000000\n",
       "mean        0.002023      -0.002081       2.495128      95.000000\n",
       "std         1.732045       1.730417       3.473445      44.749921\n",
       "min        -8.760004      -7.084020     -11.970335       0.000000\n",
       "25%        -1.162288      -1.174820       0.130359      59.450441\n",
       "50%         0.009424      -0.009482       2.484236      94.925613\n",
       "75%         1.158535       1.163678       4.858794     130.595027\n",
       "max         7.238262       7.844801      16.739402     190.029838"
      ]
     },
     "metadata": {},
     "output_type": "display_data"
    },
    {
     "data": {
      "text/plain": [
       "0"
      ]
     },
     "metadata": {},
     "output_type": "display_data"
    },
    {
     "data": {
      "text/plain": [
       "id         0\n",
       "f0         0\n",
       "f1         0\n",
       "f2         0\n",
       "product    0\n",
       "dtype: int64"
      ]
     },
     "metadata": {},
     "output_type": "display_data"
    },
    {
     "data": {
      "text/plain": [
       "xCHr8    2\n",
       "Vcm5J    2\n",
       "VF7Jo    2\n",
       "KUPhW    2\n",
       "x33SR    1\n",
       "        ..\n",
       "G6H0h    1\n",
       "9lUmg    1\n",
       "h0pLd    1\n",
       "QJxi5    1\n",
       "GOtt9    1\n",
       "Name: id, Length: 99996, dtype: int64"
      ]
     },
     "metadata": {},
     "output_type": "display_data"
    },
    {
     "data": {
      "text/html": [
       "<div>\n",
       "<style scoped>\n",
       "    .dataframe tbody tr th:only-of-type {\n",
       "        vertical-align: middle;\n",
       "    }\n",
       "\n",
       "    .dataframe tbody tr th {\n",
       "        vertical-align: top;\n",
       "    }\n",
       "\n",
       "    .dataframe thead th {\n",
       "        text-align: right;\n",
       "    }\n",
       "</style>\n",
       "<table border=\"1\" class=\"dataframe\">\n",
       "  <thead>\n",
       "    <tr style=\"text-align: right;\">\n",
       "      <th></th>\n",
       "      <th>f0</th>\n",
       "      <th>f1</th>\n",
       "      <th>f2</th>\n",
       "      <th>product</th>\n",
       "    </tr>\n",
       "  </thead>\n",
       "  <tbody>\n",
       "    <tr>\n",
       "      <th>f0</th>\n",
       "      <td>1.000000</td>\n",
       "      <td>0.000528</td>\n",
       "      <td>-0.000448</td>\n",
       "      <td>-0.001987</td>\n",
       "    </tr>\n",
       "    <tr>\n",
       "      <th>f1</th>\n",
       "      <td>0.000528</td>\n",
       "      <td>1.000000</td>\n",
       "      <td>0.000779</td>\n",
       "      <td>-0.001012</td>\n",
       "    </tr>\n",
       "    <tr>\n",
       "      <th>f2</th>\n",
       "      <td>-0.000448</td>\n",
       "      <td>0.000779</td>\n",
       "      <td>1.000000</td>\n",
       "      <td>0.445871</td>\n",
       "    </tr>\n",
       "    <tr>\n",
       "      <th>product</th>\n",
       "      <td>-0.001987</td>\n",
       "      <td>-0.001012</td>\n",
       "      <td>0.445871</td>\n",
       "      <td>1.000000</td>\n",
       "    </tr>\n",
       "  </tbody>\n",
       "</table>\n",
       "</div>"
      ],
      "text/plain": [
       "               f0        f1        f2   product\n",
       "f0       1.000000  0.000528 -0.000448 -0.001987\n",
       "f1       0.000528  1.000000  0.000779 -0.001012\n",
       "f2      -0.000448  0.000779  1.000000  0.445871\n",
       "product -0.001987 -0.001012  0.445871  1.000000"
      ]
     },
     "metadata": {},
     "output_type": "display_data"
    },
    {
     "data": {
      "image/png": "[encoded data removed]",
      "text/plain": [
       "<Figure size 576x576 with 4 Axes>"
      ]
     },
     "metadata": {
      "needs_background": "light"
     },
     "output_type": "display_data"
    }
   ],
   "source": [
    "#df_2 = pd.read_csv('D:\\Мои Документы\\Desktop\\Материалы по учебе\\Машинное обучение в бизнесе\\geo_data_2.csv')\n",
    "df_2 = pd.read_csv('/datasets/geo_data_2.csv')\n",
    "get_info(df_2)"
   ]
  },
  {
   "cell_type": "markdown",
   "id": "8e366c60",
   "metadata": {},
   "source": [
    "#### Вывод: В таблицах во всех столбцах нет пропусков, распределение данных в целом выглядят адекватно, критичных выбросов нет, поэтому оставляем все данные."
   ]
  },
  {
   "cell_type": "markdown",
   "id": "29356b71",
   "metadata": {},
   "source": [
    "### Напишем функцию для разделения датафреймов на признаки и целевой признак"
   ]
  },
  {
   "cell_type": "code",
   "execution_count": 9,
   "id": "1d8123d0",
   "metadata": {},
   "outputs": [],
   "source": [
    "def separate_features_target(data):\n",
    "    data_target = data['product']\n",
    "    data_features = data.drop(['id', 'product'], axis=1)\n",
    "    return data_target, data_features"
   ]
  },
  {
   "cell_type": "markdown",
   "id": "5666e454",
   "metadata": {},
   "source": [
    "### Разделим датофреймы на признаки и целевой признак с помощью функции separate_features_target"
   ]
  },
  {
   "cell_type": "code",
   "execution_count": 10,
   "id": "579b2add",
   "metadata": {},
   "outputs": [
    {
     "name": "stdout",
     "output_type": "stream",
     "text": [
      "(100000, 3)\n"
     ]
    },
    {
     "data": {
      "text/plain": [
       "(100000,)"
      ]
     },
     "execution_count": 10,
     "metadata": {},
     "output_type": "execute_result"
    }
   ],
   "source": [
    "df_0_target, df_0_features = separate_features_target (data=df_0)\n",
    "print(df_0_features.shape)\n",
    "df_0_target.shape"
   ]
  },
  {
   "cell_type": "code",
   "execution_count": 11,
   "id": "46681ea5",
   "metadata": {},
   "outputs": [
    {
     "name": "stdout",
     "output_type": "stream",
     "text": [
      "(100000, 3)\n"
     ]
    },
    {
     "data": {
      "text/plain": [
       "(100000,)"
      ]
     },
     "execution_count": 11,
     "metadata": {},
     "output_type": "execute_result"
    }
   ],
   "source": [
    "df_1_target, df_1_features = separate_features_target (data=df_1)\n",
    "print(df_1_features.shape)\n",
    "df_1_target.shape"
   ]
  },
  {
   "cell_type": "code",
   "execution_count": 12,
   "id": "32655623",
   "metadata": {},
   "outputs": [
    {
     "name": "stdout",
     "output_type": "stream",
     "text": [
      "(100000, 3)\n"
     ]
    },
    {
     "data": {
      "text/plain": [
       "(100000,)"
      ]
     },
     "execution_count": 12,
     "metadata": {},
     "output_type": "execute_result"
    }
   ],
   "source": [
    "df_2_target, df_2_features = separate_features_target (data=df_2)\n",
    "print(df_2_features.shape)\n",
    "df_2_target.shape"
   ]
  },
  {
   "cell_type": "markdown",
   "id": "85f1c0d8",
   "metadata": {},
   "source": [
    "#### Для дальнейшего обучения модели разбили данные в трех дататфреймах на две выборки: признаки и целевой признак. Из признаков удалили также столбец с 'id', который не значим."
   ]
  },
  {
   "cell_type": "markdown",
   "id": "27738ef7",
   "metadata": {},
   "source": [
    "#### Данные загружены, проведенны исследования на наличе пропусков, явных и неявных дубликатов, проведена оценка коррелируемости признаков.  Для дальнейшего обучения модели разбили данные в трех дататфреймах на две выборки: признаки и целевой признак. Из признаков удалили также столбец с 'id', который не значим."
   ]
  },
  {
   "cell_type": "markdown",
   "id": "36870463",
   "metadata": {},
   "source": [
    "## Обучение и проверка модели"
   ]
  },
  {
   "cell_type": "markdown",
   "id": "ec5926ef",
   "metadata": {},
   "source": [
    "### Напишем функцию для разбивки датафреймов на обучающую и валидационную выборку в соотношении 75:25, обучение модели линейной регрессии на обучающей выборке, получения предсказаний на валидационной, подсчета RMSE модели и среднего запаса предсказанного сырья, также считаем rmse константной модели (для оценки адекватности). На выходе функция возвращает: модель, правильные ответы на валидационной выборке, предсказания на валидационной выборке, rmse модели, средний запас предсказанного сырья и rmse константной модели"
   ]
  },
  {
   "cell_type": "code",
   "execution_count": 13,
   "id": "5e41f182",
   "metadata": {},
   "outputs": [],
   "source": [
    "def learn_check(features, target):\n",
    "    features_train, features_valid, target_train, target_valid = train_test_split(features, target, test_size=0.25, random_state=12345)\n",
    "    model = LinearRegression()\n",
    "    model.fit(features_train, target_train)\n",
    "    predictions = model.predict(features_valid)\n",
    "    prediction_constant = pd.Series(target_train.mean(), index=target_valid.index)\n",
    "    rmse = mean_squared_error(target_valid, predictions)**0.5\n",
    "    rmse_const = mean_squared_error(target_valid, prediction_constant)**0.5\n",
    "    mean_product =  predictions.mean()\n",
    "    return model, target_valid, predictions, rmse, mean_product, rmse_const"
   ]
  },
  {
   "cell_type": "markdown",
   "id": "42b78bc9",
   "metadata": {},
   "source": [
    "### Обучаем и проверяем модель для региона 0. Для удобства дальнейшей работы сохраняем предсказания модели в виде Series (сохраняя индексы, чтобы потом можно было понять, о каких скважинах в регионе идет речь). Проверяем, что получилось."
   ]
  },
  {
   "cell_type": "code",
   "execution_count": 14,
   "id": "c0eda907",
   "metadata": {},
   "outputs": [
    {
     "name": "stdout",
     "output_type": "stream",
     "text": [
      "(25000,)\n",
      "71751     10.038645\n",
      "80493    114.551489\n",
      "2655     132.603635\n",
      "53233    169.072125\n",
      "91141    122.325180\n",
      "9539      37.735331\n",
      "8482     139.227191\n",
      "30284     72.491987\n",
      "66393     11.465993\n",
      "99584    110.562031\n",
      "Name: product, dtype: float64\n",
      "71751     95.894952\n",
      "80493     77.572583\n",
      "2655      77.892640\n",
      "53233     90.175134\n",
      "91141     70.510088\n",
      "9539      69.127076\n",
      "8482     125.106759\n",
      "30284     87.643849\n",
      "66393     86.035871\n",
      "99584     98.655311\n",
      "dtype: float64\n",
      "rmse модели: 37.5794217150813\n",
      "rmse константной модели: 44.289591053907365\n",
      "Cредний запас предсказанного сырья: 92.59256778438035\n"
     ]
    }
   ],
   "source": [
    "model_0, df_0_target_valid, prediction_valid_0, rmse_0, mean_product_0, rmse_const_0  = learn_check(features=df_0_features, \n",
    "                                                                                                    target=df_0_target)\n",
    "prediction_valid_0 = pd.Series(prediction_valid_0, index=df_0_target_valid.index)\n",
    "print(df_0_target_valid.shape)\n",
    "print(df_0_target_valid.head(10))\n",
    "print(prediction_valid_0.head(10))\n",
    "print('rmse модели:', rmse_0)\n",
    "print('rmse константной модели:', rmse_const_0)\n",
    "print('Cредний запас предсказанного сырья:', mean_product_0)"
   ]
  },
  {
   "cell_type": "markdown",
   "id": "d24fff3e",
   "metadata": {},
   "source": [
    "### Обучаем и проверяем модель для региона 1."
   ]
  },
  {
   "cell_type": "code",
   "execution_count": 15,
   "id": "ab0d0b7b",
   "metadata": {},
   "outputs": [
    {
     "name": "stdout",
     "output_type": "stream",
     "text": [
      "71751     80.859783\n",
      "80493     53.906522\n",
      "2655      30.132364\n",
      "53233     53.906522\n",
      "91141      0.000000\n",
      "9539     110.992147\n",
      "8482     137.945408\n",
      "30284     84.038886\n",
      "66393    110.992147\n",
      "99584     26.953261\n",
      "Name: product, dtype: float64\n",
      "71751     82.663314\n",
      "80493     54.431786\n",
      "2655      29.748760\n",
      "53233     53.552133\n",
      "91141      1.243856\n",
      "9539     111.438490\n",
      "8482     137.134374\n",
      "30284     82.888902\n",
      "66393    110.897311\n",
      "99584     29.219306\n",
      "dtype: float64\n",
      "rmse модели: 0.893099286775617\n",
      "rmse константной модели: 46.02144533725462\n",
      "Cредний запас предсказанного сырья: 68.728546895446\n"
     ]
    }
   ],
   "source": [
    "model_1, df_1_target_valid, prediction_valid_1, rmse_1, mean_product_1, rmse_const_1  = learn_check(features=df_1_features, \n",
    "                                                                                                    target=df_1_target)\n",
    "\n",
    "prediction_valid_1 = pd.Series(prediction_valid_1, index=df_1_target_valid.index)\n",
    "print(df_1_target_valid.head(10))\n",
    "print(prediction_valid_1.head(10))\n",
    "print('rmse модели:', rmse_1)\n",
    "print('rmse константной модели:', rmse_const_1)\n",
    "print('Cредний запас предсказанного сырья:', mean_product_1)"
   ]
  },
  {
   "cell_type": "markdown",
   "id": "b47c25df",
   "metadata": {},
   "source": [
    "### Обучаем и проверяем модель для региона 2."
   ]
  },
  {
   "cell_type": "code",
   "execution_count": 16,
   "id": "e3526739",
   "metadata": {},
   "outputs": [
    {
     "name": "stdout",
     "output_type": "stream",
     "text": [
      "(25000,)\n",
      "71751     61.212375\n",
      "80493     41.850118\n",
      "2655      57.776581\n",
      "53233    100.053761\n",
      "91141    109.897122\n",
      "9539     105.904629\n",
      "8482      51.646180\n",
      "30284    173.162121\n",
      "66393    113.143072\n",
      "99584     56.803215\n",
      "Name: product, dtype: float64\n",
      "71751     93.599633\n",
      "80493     75.105159\n",
      "2655      90.066809\n",
      "53233    105.162375\n",
      "91141    115.303310\n",
      "9539     121.939197\n",
      "8482     119.053040\n",
      "30284     75.396575\n",
      "66393    111.400543\n",
      "99584     84.029320\n",
      "dtype: float64\n",
      "rmse модели: 40.02970873393434\n",
      "rmse константной модели: 44.90234968510566\n",
      "Cредний запас предсказанного сырья: 94.96504596800489\n"
     ]
    }
   ],
   "source": [
    "model_2, df_2_target_valid, prediction_valid_2, rmse_2, mean_product_2, rmse_const_2  = learn_check(features=df_2_features, \n",
    "                                                                                                    target=df_2_target)\n",
    "prediction_valid_2 = pd.Series(prediction_valid_2, index=df_2_target_valid.index)\n",
    "print(df_2_target_valid.shape)\n",
    "print(df_2_target_valid.head(10))\n",
    "print(prediction_valid_2.head(10))\n",
    "print('rmse модели:', rmse_2)\n",
    "print('rmse константной модели:', rmse_const_2)\n",
    "print('Cредний запас предсказанного сырья:', mean_product_2)"
   ]
  },
  {
   "cell_type": "markdown",
   "id": "a5f49877",
   "metadata": {},
   "source": [
    "#### Вывод: Самый хороший результат по точности предсказания у модели в регионе 1, в двух других регионах ошибка значительно больше, но rmse моделй лучше, чем rmse модели, предсказывающее постоянное чило (среднее), т.е. модели прошли проверку на адекватность. В регионе 1 наименьший средний объем запасов - 68.729, в регионах 0 и 2 - средний объем запасов выше - 92.593 и 94.965 соответсвенно."
   ]
  },
  {
   "cell_type": "markdown",
   "id": "8be7a38c",
   "metadata": {},
   "source": [
    "## Подготовка к расчёту прибыли"
   ]
  },
  {
   "cell_type": "markdown",
   "id": "fcb95791",
   "metadata": {},
   "source": [
    "### Сохраняем в отдельных переменных все ключевые значения"
   ]
  },
  {
   "cell_type": "code",
   "execution_count": 17,
   "id": "f7b8f733",
   "metadata": {},
   "outputs": [
    {
     "name": "stdout",
     "output_type": "stream",
     "text": [
      "Минимальный объем сырья для безубыточной разработки новой скважины: 111.11111111111111\n"
     ]
    }
   ],
   "source": [
    "budget_count = BUDGET/COUNT # бюджет на 1 скважину\n",
    "product = budget_count/COST_BAR # кол-во тыс барреллей\n",
    "print('Минимальный объем сырья для безубыточной разработки новой скважины:', product)"
   ]
  },
  {
   "cell_type": "markdown",
   "id": "c27186e4",
   "metadata": {},
   "source": [
    "#### Вывод: Минимальный объем сырья для безубыточной разработки новой скважины около  111 тыс. баррелей. Среднее значение запасов в скважинах во всех трех регионах ниже данной цифры. Но данные значения у нас расчитаны исходя из количества скважин 25000. Согласно технололгии разработки месторождения в регионе исследуют сначала 500 скважин, потом их них выбирают 200 самых лучших и уже их берут в разработку. В связи с этим для дальнейшей оценки прибыльности региона и риска убытком применим технику Bootstrap c 1000 выборок."
   ]
  },
  {
   "cell_type": "markdown",
   "id": "f7b1201d",
   "metadata": {},
   "source": [
    "### Напишем функцию для расчета прибыли по выбранным скважинам и предсказаниям моделей. Функция выбирает нужное количнство скважин  (count) с максимальным значением предсказаний, суммирует целевой значение объема сырья, соответсвующее этим предсказаняим, и подсчитывает прибыль для полученного объема сырья."
   ]
  },
  {
   "cell_type": "code",
   "execution_count": 18,
   "id": "00cc481d",
   "metadata": {},
   "outputs": [],
   "source": [
    "def revenue (target, probabilities, count):\n",
    "    probabilities_sorted = probabilities.sort_values(ascending=False)\n",
    "    selected = target[probabilities_sorted.index][:count]\n",
    "    return (COST_BAR*selected.sum() - BUDGET)/1000000"
   ]
  },
  {
   "cell_type": "markdown",
   "id": "67390e7d",
   "metadata": {},
   "source": [
    "## Расчёт прибыли и рисков "
   ]
  },
  {
   "cell_type": "markdown",
   "id": "818ca517",
   "metadata": {},
   "source": [
    "### Напишем функцию для нахождения распределения прибыли методом bootstrap c 1000 выборок, подсчета средней прибыли, 95% доверительного интервала и риска убытка. Функция принимает на вход ответы и предсказания, нужный размер выборок (в нашем случае согласно заданию n=500), возвращает среднее значение прибыли, 95% доверительный интервал и риск убытков. Внтури данной функции используем функцию для подсчета прибыли (revenue), которую написали выше. В этой функции значение count = 200 (согласно заданию, т.к. из 500 скважин разрабатывается только 200 самых перспективных)."
   ]
  },
  {
   "cell_type": "code",
   "execution_count": 19,
   "id": "2b7a3bee",
   "metadata": {},
   "outputs": [],
   "source": [
    "def btstrap (target, prediction, n):\n",
    "    state = np.random.RandomState(12345)\n",
    "    values = []\n",
    "    for i in range (1000):\n",
    "        sub_target = target.sample(n, replace=True, random_state=state)\n",
    "        sub_prediction = prediction[sub_target.index]\n",
    "        values.append(revenue(sub_target, sub_prediction, COUNT))\n",
    "    values = pd.Series(values)\n",
    "    value_mean = values.mean() # среднее значение прибыли\n",
    "    lower = values.quantile(q=0.025) # 2,5% квартиль для подсчета нижней границы 95% доверительного интервала \n",
    "    upper = values.quantile(q=0.975) # 97,5% квартиль для подсчета верхней границы 95% доверительного интервала\n",
    "    risk = (len(values.loc[values < 0])/len(values))*100\n",
    "    return value_mean, lower, upper, risk    "
   ]
  },
  {
   "cell_type": "markdown",
   "id": "b292cf92",
   "metadata": {},
   "source": [
    "### Посчитаем риски и среднюю прибыль для 0 региона, используя функцию btstrap."
   ]
  },
  {
   "cell_type": "code",
   "execution_count": 20,
   "id": "e71237c9",
   "metadata": {},
   "outputs": [
    {
     "name": "stdout",
     "output_type": "stream",
     "text": [
      "Средняя прибыль в регионе 0: 425.9385269105924\n",
      "95% доверительный интервал для средней прибыли в регионе 0: -102.09009483793655 - 947.9763533583689\n",
      "Риск убытков в регионе 0: 6.0 %\n"
     ]
    }
   ],
   "source": [
    "revenue_0, lower_0, upper_0, risk_0 = btstrap(df_0_target_valid, prediction_valid_0, N)\n",
    "print('Средняя прибыль в регионе 0:', revenue_0)\n",
    "print('95% доверительный интервал для средней прибыли в регионе 0:', lower_0, '-', upper_0)\n",
    "print('Риск убытков в регионе 0:', risk_0, '%')"
   ]
  },
  {
   "cell_type": "markdown",
   "id": "90f6d7ed",
   "metadata": {},
   "source": [
    "### Посчитаем риски и среднюю прибыль для 1 региона, используя функцию btstrap."
   ]
  },
  {
   "cell_type": "code",
   "execution_count": 21,
   "id": "59e4e03d",
   "metadata": {},
   "outputs": [
    {
     "name": "stdout",
     "output_type": "stream",
     "text": [
      "Средняя прибыль в регионе 1: 515.22277344329\n",
      "95% доверительный интервал для средней прибыли в регионе 1: 68.87322537050176 - 931.5475912570495\n",
      "Риск убытков в регионе 1: 1.0 %\n"
     ]
    }
   ],
   "source": [
    "revenue_1, lower_1, upper_1, risk_1 = btstrap(df_1_target_valid, prediction_valid_1, N)\n",
    "print('Средняя прибыль в регионе 1:', revenue_1)\n",
    "print('95% доверительный интервал для средней прибыли в регионе 1:', lower_1, '-', upper_1)\n",
    "print('Риск убытков в регионе 1:', risk_1, '%')"
   ]
  },
  {
   "cell_type": "markdown",
   "id": "ce1e60a5",
   "metadata": {},
   "source": [
    "### Посчитаем риски и среднюю прибыль для 2 региона, используя функцию btstrap."
   ]
  },
  {
   "cell_type": "code",
   "execution_count": 22,
   "id": "d9b0efa3",
   "metadata": {},
   "outputs": [
    {
     "name": "stdout",
     "output_type": "stream",
     "text": [
      "Средняя прибыль в регионе 2: 435.0083627827556\n",
      "95% доверительный интервал для средней прибыли в регионе 2: -128.880547329789 - 969.7069541802662\n",
      "Риск убытков в регионе 2: 6.4 %\n"
     ]
    }
   ],
   "source": [
    "revenue_2, lower_2, upper_2, risk_2 = btstrap(df_2_target_valid, prediction_valid_2, N)\n",
    "print('Средняя прибыль в регионе 2:', revenue_2)\n",
    "print('95% доверительный интервал для средней прибыли в регионе 2:', lower_2, '-', upper_2)\n",
    "print('Риск убытков в регионе 2:', risk_2, '%')"
   ]
  },
  {
   "cell_type": "markdown",
   "id": "2e901501",
   "metadata": {},
   "source": [
    "#### Вывод: Посчитав среднюю прибыль, 95% доверительный интервал для средней прибыли и риск убытков в каждом регионе, получили - что рекомендуемым регионом для разработки является регион 1, т.к. по оценкам здесь наибольшая средняя прибыль 515222773.44 по сранению с  регионом 0 (425938526.91) и регионом 2 (435008362.78), самый низкий риск получения убытка - 1% (в регионах 0 и 2 - 6.0 % и 6.4 % соответсвенно), а также самый узкий 95%доверительный интервал для средней прибыли."
   ]
  },
  {
   "cell_type": "markdown",
   "id": "1bc7b327",
   "metadata": {},
   "source": [
    "## Итоговый вывод:\n",
    "1. Изучив предоставленные данные по регионам, пришли к следующим выводм - в таблицах во всех столбцах нет пропусков, распределение данных в целом выглядят адекватно, критичных выбросов нет, поэтому оставли все данные для дальнейшей работы. \n",
    "\n",
    "2. Обучили модели на обучающих выборках и проверили их на валидационных выборках. При этом получили следующие результаты - Самый хороший результат по точности предсказания у модели в регионе 1, в двух других регионах ошибка значительно больше, но rmse моделй лучше, чем rmse модели, предсказывающее постоянное чило (среднее), т.е. модели прошли проверку на адекватность. В регионе 1 наименьший средний объем запасов - 68.729, в регионах 0 и 2 - средний объем запасов выше - 92.593 и 94.965 соответсвенно.\n",
    "\n",
    "3. Затем используя технику bootstrap c 1000 выборок посчитали для каждого региона среднюю прибыль, 95% доверительный интервал для средней прибыли и риск получения убытков.\n",
    "Получили следующие результаты:\n",
    "**Регион 0:**\n",
    "Средняя прибыль в регионе 0: 425938526.910592\n",
    "95% доверительный интервал для средней прибыли в регионе 0: -102090094.83793654 - 947976353.3583689\n",
    "Риск убытков в регионе 0: 6.0 %\n",
    "**Регион 1:**\n",
    "Средняя прибыль в регионе 1: 515222773.44329005\n",
    "95% доверительный интервал для средней прибыли в регионе 1: 68873225.37050176 - 931547591.2570494\n",
    "Риск убытков в регионе 1: 1.0 %\n",
    "**Регион 2:**\n",
    "Средняя прибыль в регионе 2: 435008362.782756\n",
    "95% доверительный интервал для средней прибыли в регионе 2: -128880547.32978901 - 969706954.1802661\n",
    "Риск убытков в регионе 2: 6.4 %\n",
    "\n",
    "Таким образом рекомендуем к разработке Регион 1, т.к. по оценкам здесь наибольшая средняя прибыль 515222773.44 по сранению с  регионом 0 (425938526.91) и регионом 2 (435008362.78), самый низкий риск получения убытка - 1% (в регионах 0 и 2 - 6.0 % и 6.4 % соответсвенно), а также самый узкий 95% доверительный интервал для средней прибыли."
   ]
  }
 ],
 "metadata": {
  "ExecuteTimeLog": [
   {
    "duration": 1246,
    "start_time": "2023-05-25T06:24:08.541Z"
   },
   {
    "duration": 6,
    "start_time": "2023-05-25T06:24:09.790Z"
   },
   {
    "duration": 1564,
    "start_time": "2023-05-25T06:24:09.798Z"
   },
   {
    "duration": 0,
    "start_time": "2023-05-25T06:24:11.364Z"
   },
   {
    "duration": 0,
    "start_time": "2023-05-25T06:24:11.366Z"
   },
   {
    "duration": 0,
    "start_time": "2023-05-25T06:24:11.368Z"
   },
   {
    "duration": 0,
    "start_time": "2023-05-25T06:24:11.369Z"
   },
   {
    "duration": 0,
    "start_time": "2023-05-25T06:24:11.370Z"
   },
   {
    "duration": 0,
    "start_time": "2023-05-25T06:24:11.372Z"
   },
   {
    "duration": 0,
    "start_time": "2023-05-25T06:24:11.373Z"
   },
   {
    "duration": 0,
    "start_time": "2023-05-25T06:24:11.375Z"
   },
   {
    "duration": 0,
    "start_time": "2023-05-25T06:24:11.377Z"
   },
   {
    "duration": 0,
    "start_time": "2023-05-25T06:24:11.378Z"
   },
   {
    "duration": 0,
    "start_time": "2023-05-25T06:24:11.380Z"
   },
   {
    "duration": 0,
    "start_time": "2023-05-25T06:24:11.381Z"
   },
   {
    "duration": 0,
    "start_time": "2023-05-25T06:24:11.383Z"
   },
   {
    "duration": 0,
    "start_time": "2023-05-25T06:24:11.384Z"
   },
   {
    "duration": 0,
    "start_time": "2023-05-25T06:24:11.386Z"
   },
   {
    "duration": 0,
    "start_time": "2023-05-25T06:24:11.388Z"
   },
   {
    "duration": 1073,
    "start_time": "2023-05-25T06:24:52.265Z"
   },
   {
    "duration": 3,
    "start_time": "2023-05-25T06:24:53.340Z"
   },
   {
    "duration": 1229,
    "start_time": "2023-05-25T06:24:53.345Z"
   },
   {
    "duration": 0,
    "start_time": "2023-05-25T06:24:54.576Z"
   },
   {
    "duration": 0,
    "start_time": "2023-05-25T06:24:54.577Z"
   },
   {
    "duration": 0,
    "start_time": "2023-05-25T06:24:54.579Z"
   },
   {
    "duration": 0,
    "start_time": "2023-05-25T06:24:54.580Z"
   },
   {
    "duration": 0,
    "start_time": "2023-05-25T06:24:54.581Z"
   },
   {
    "duration": 0,
    "start_time": "2023-05-25T06:24:54.582Z"
   },
   {
    "duration": 0,
    "start_time": "2023-05-25T06:24:54.583Z"
   },
   {
    "duration": 0,
    "start_time": "2023-05-25T06:24:54.584Z"
   },
   {
    "duration": 0,
    "start_time": "2023-05-25T06:24:54.585Z"
   },
   {
    "duration": 0,
    "start_time": "2023-05-25T06:24:54.586Z"
   },
   {
    "duration": 0,
    "start_time": "2023-05-25T06:24:54.587Z"
   },
   {
    "duration": 0,
    "start_time": "2023-05-25T06:24:54.588Z"
   },
   {
    "duration": 0,
    "start_time": "2023-05-25T06:24:54.589Z"
   },
   {
    "duration": 0,
    "start_time": "2023-05-25T06:24:54.590Z"
   },
   {
    "duration": 0,
    "start_time": "2023-05-25T06:24:54.592Z"
   },
   {
    "duration": 1,
    "start_time": "2023-05-25T06:24:54.592Z"
   },
   {
    "duration": 1144,
    "start_time": "2023-05-25T06:25:31.852Z"
   },
   {
    "duration": 4,
    "start_time": "2023-05-25T06:25:32.998Z"
   },
   {
    "duration": 978,
    "start_time": "2023-05-25T06:25:33.005Z"
   },
   {
    "duration": 656,
    "start_time": "2023-05-25T06:25:33.985Z"
   },
   {
    "duration": 0,
    "start_time": "2023-05-25T06:25:34.643Z"
   },
   {
    "duration": 0,
    "start_time": "2023-05-25T06:25:34.644Z"
   },
   {
    "duration": 0,
    "start_time": "2023-05-25T06:25:34.649Z"
   },
   {
    "duration": 0,
    "start_time": "2023-05-25T06:25:34.651Z"
   },
   {
    "duration": 0,
    "start_time": "2023-05-25T06:25:34.652Z"
   },
   {
    "duration": 0,
    "start_time": "2023-05-25T06:25:34.653Z"
   },
   {
    "duration": 0,
    "start_time": "2023-05-25T06:25:34.654Z"
   },
   {
    "duration": 0,
    "start_time": "2023-05-25T06:25:34.655Z"
   },
   {
    "duration": 0,
    "start_time": "2023-05-25T06:25:34.656Z"
   },
   {
    "duration": 0,
    "start_time": "2023-05-25T06:25:34.657Z"
   },
   {
    "duration": 0,
    "start_time": "2023-05-25T06:25:34.658Z"
   },
   {
    "duration": 0,
    "start_time": "2023-05-25T06:25:34.659Z"
   },
   {
    "duration": 0,
    "start_time": "2023-05-25T06:25:34.660Z"
   },
   {
    "duration": 0,
    "start_time": "2023-05-25T06:25:34.661Z"
   },
   {
    "duration": 0,
    "start_time": "2023-05-25T06:25:34.662Z"
   },
   {
    "duration": 1007,
    "start_time": "2023-05-25T07:08:55.811Z"
   },
   {
    "duration": 4,
    "start_time": "2023-05-25T07:08:56.819Z"
   },
   {
    "duration": 962,
    "start_time": "2023-05-25T07:08:56.824Z"
   },
   {
    "duration": 729,
    "start_time": "2023-05-25T07:08:57.787Z"
   },
   {
    "duration": 1185,
    "start_time": "2023-05-25T07:08:58.519Z"
   },
   {
    "duration": 4,
    "start_time": "2023-05-25T07:08:59.706Z"
   },
   {
    "duration": 24,
    "start_time": "2023-05-25T07:08:59.711Z"
   },
   {
    "duration": 22,
    "start_time": "2023-05-25T07:08:59.737Z"
   },
   {
    "duration": 24,
    "start_time": "2023-05-25T07:08:59.761Z"
   },
   {
    "duration": 30,
    "start_time": "2023-05-25T07:08:59.787Z"
   },
   {
    "duration": 67,
    "start_time": "2023-05-25T07:08:59.819Z"
   },
   {
    "duration": 176,
    "start_time": "2023-05-25T07:08:59.887Z"
   },
   {
    "duration": 194,
    "start_time": "2023-05-25T07:09:00.065Z"
   },
   {
    "duration": 191,
    "start_time": "2023-05-25T07:09:00.262Z"
   },
   {
    "duration": 57,
    "start_time": "2023-05-25T07:09:00.454Z"
   },
   {
    "duration": 40,
    "start_time": "2023-05-25T07:09:00.512Z"
   },
   {
    "duration": 1506,
    "start_time": "2023-05-25T07:09:00.554Z"
   },
   {
    "duration": 1425,
    "start_time": "2023-05-25T07:09:02.062Z"
   },
   {
    "duration": 1436,
    "start_time": "2023-05-25T07:09:03.489Z"
   },
   {
    "duration": 43,
    "start_time": "2023-05-25T07:10:38.200Z"
   },
   {
    "duration": 1064,
    "start_time": "2023-05-25T07:12:40.066Z"
   },
   {
    "duration": 216,
    "start_time": "2023-05-25T07:12:41.132Z"
   },
   {
    "duration": 0,
    "start_time": "2023-05-25T07:12:41.351Z"
   },
   {
    "duration": 0,
    "start_time": "2023-05-25T07:12:41.352Z"
   },
   {
    "duration": 0,
    "start_time": "2023-05-25T07:12:41.353Z"
   },
   {
    "duration": 0,
    "start_time": "2023-05-25T07:12:41.354Z"
   },
   {
    "duration": 0,
    "start_time": "2023-05-25T07:12:41.355Z"
   },
   {
    "duration": 0,
    "start_time": "2023-05-25T07:12:41.357Z"
   },
   {
    "duration": 0,
    "start_time": "2023-05-25T07:12:41.358Z"
   },
   {
    "duration": 0,
    "start_time": "2023-05-25T07:12:41.360Z"
   },
   {
    "duration": 0,
    "start_time": "2023-05-25T07:12:41.361Z"
   },
   {
    "duration": 0,
    "start_time": "2023-05-25T07:12:41.362Z"
   },
   {
    "duration": 0,
    "start_time": "2023-05-25T07:12:41.363Z"
   },
   {
    "duration": 0,
    "start_time": "2023-05-25T07:12:41.365Z"
   },
   {
    "duration": 0,
    "start_time": "2023-05-25T07:12:41.366Z"
   },
   {
    "duration": 0,
    "start_time": "2023-05-25T07:12:41.367Z"
   },
   {
    "duration": 0,
    "start_time": "2023-05-25T07:12:41.368Z"
   },
   {
    "duration": 0,
    "start_time": "2023-05-25T07:12:41.369Z"
   },
   {
    "duration": 1085,
    "start_time": "2023-05-25T07:13:17.742Z"
   },
   {
    "duration": 4,
    "start_time": "2023-05-25T07:13:18.830Z"
   },
   {
    "duration": 965,
    "start_time": "2023-05-25T07:13:18.836Z"
   },
   {
    "duration": 714,
    "start_time": "2023-05-25T07:13:19.803Z"
   },
   {
    "duration": 844,
    "start_time": "2023-05-25T07:13:20.519Z"
   },
   {
    "duration": 3,
    "start_time": "2023-05-25T07:13:21.365Z"
   },
   {
    "duration": 8,
    "start_time": "2023-05-25T07:13:21.370Z"
   },
   {
    "duration": 10,
    "start_time": "2023-05-25T07:13:21.379Z"
   },
   {
    "duration": 14,
    "start_time": "2023-05-25T07:13:21.391Z"
   },
   {
    "duration": 4,
    "start_time": "2023-05-25T07:13:21.406Z"
   },
   {
    "duration": 52,
    "start_time": "2023-05-25T07:13:21.412Z"
   },
   {
    "duration": 115,
    "start_time": "2023-05-25T07:13:21.550Z"
   },
   {
    "duration": 189,
    "start_time": "2023-05-25T07:13:21.668Z"
   },
   {
    "duration": 101,
    "start_time": "2023-05-25T07:13:21.859Z"
   },
   {
    "duration": 3,
    "start_time": "2023-05-25T07:13:21.962Z"
   },
   {
    "duration": 6,
    "start_time": "2023-05-25T07:13:21.969Z"
   },
   {
    "duration": 1449,
    "start_time": "2023-05-25T07:13:21.977Z"
   },
   {
    "duration": 1372,
    "start_time": "2023-05-25T07:13:23.428Z"
   },
   {
    "duration": 1313,
    "start_time": "2023-05-25T07:13:24.801Z"
   },
   {
    "duration": 13,
    "start_time": "2023-05-25T07:17:57.706Z"
   },
   {
    "duration": 22,
    "start_time": "2023-05-25T07:21:34.742Z"
   },
   {
    "duration": 16,
    "start_time": "2023-05-25T07:41:15.874Z"
   },
   {
    "duration": 1108,
    "start_time": "2023-05-25T08:13:59.562Z"
   },
   {
    "duration": 5,
    "start_time": "2023-05-25T08:14:00.672Z"
   },
   {
    "duration": 1117,
    "start_time": "2023-05-25T08:14:00.679Z"
   },
   {
    "duration": 19,
    "start_time": "2023-05-25T08:14:01.799Z"
   },
   {
    "duration": 814,
    "start_time": "2023-05-25T08:14:01.820Z"
   },
   {
    "duration": 23,
    "start_time": "2023-05-25T08:14:02.636Z"
   },
   {
    "duration": 813,
    "start_time": "2023-05-25T08:14:02.661Z"
   },
   {
    "duration": 3,
    "start_time": "2023-05-25T08:14:03.475Z"
   },
   {
    "duration": 9,
    "start_time": "2023-05-25T08:14:03.479Z"
   },
   {
    "duration": 12,
    "start_time": "2023-05-25T08:14:03.490Z"
   },
   {
    "duration": 18,
    "start_time": "2023-05-25T08:14:03.503Z"
   },
   {
    "duration": 9,
    "start_time": "2023-05-25T08:14:03.523Z"
   },
   {
    "duration": 116,
    "start_time": "2023-05-25T08:14:03.534Z"
   },
   {
    "duration": 116,
    "start_time": "2023-05-25T08:14:03.652Z"
   },
   {
    "duration": 193,
    "start_time": "2023-05-25T08:14:03.770Z"
   },
   {
    "duration": 5,
    "start_time": "2023-05-25T08:14:04.052Z"
   },
   {
    "duration": 107,
    "start_time": "2023-05-25T08:14:04.059Z"
   },
   {
    "duration": 7,
    "start_time": "2023-05-25T08:14:04.168Z"
   },
   {
    "duration": 1415,
    "start_time": "2023-05-25T08:14:04.176Z"
   },
   {
    "duration": 1372,
    "start_time": "2023-05-25T08:14:05.593Z"
   },
   {
    "duration": 1343,
    "start_time": "2023-05-25T08:14:06.967Z"
   },
   {
    "duration": 1102,
    "start_time": "2023-05-25T08:16:05.127Z"
   },
   {
    "duration": 3,
    "start_time": "2023-05-25T08:16:06.231Z"
   },
   {
    "duration": 1083,
    "start_time": "2023-05-25T08:16:06.236Z"
   },
   {
    "duration": 30,
    "start_time": "2023-05-25T08:16:07.321Z"
   },
   {
    "duration": 769,
    "start_time": "2023-05-25T08:16:07.355Z"
   },
   {
    "duration": 25,
    "start_time": "2023-05-25T08:16:08.126Z"
   },
   {
    "duration": 845,
    "start_time": "2023-05-25T08:16:08.152Z"
   },
   {
    "duration": 3,
    "start_time": "2023-05-25T08:16:08.999Z"
   },
   {
    "duration": 9,
    "start_time": "2023-05-25T08:16:09.004Z"
   },
   {
    "duration": 6,
    "start_time": "2023-05-25T08:16:09.015Z"
   },
   {
    "duration": 30,
    "start_time": "2023-05-25T08:16:09.023Z"
   },
   {
    "duration": 4,
    "start_time": "2023-05-25T08:16:09.055Z"
   },
   {
    "duration": 89,
    "start_time": "2023-05-25T08:16:09.061Z"
   },
   {
    "duration": 114,
    "start_time": "2023-05-25T08:16:09.153Z"
   },
   {
    "duration": 115,
    "start_time": "2023-05-25T08:16:09.353Z"
   },
   {
    "duration": 81,
    "start_time": "2023-05-25T08:16:09.470Z"
   },
   {
    "duration": 103,
    "start_time": "2023-05-25T08:16:09.553Z"
   },
   {
    "duration": 11,
    "start_time": "2023-05-25T08:16:09.658Z"
   },
   {
    "duration": 1471,
    "start_time": "2023-05-25T08:16:09.670Z"
   },
   {
    "duration": 1404,
    "start_time": "2023-05-25T08:16:11.143Z"
   },
   {
    "duration": 1366,
    "start_time": "2023-05-25T08:16:12.549Z"
   },
   {
    "duration": 1104,
    "start_time": "2023-05-25T08:19:51.222Z"
   },
   {
    "duration": 4,
    "start_time": "2023-05-25T08:19:52.328Z"
   },
   {
    "duration": 1064,
    "start_time": "2023-05-25T08:19:52.333Z"
   },
   {
    "duration": 18,
    "start_time": "2023-05-25T08:19:53.399Z"
   },
   {
    "duration": 796,
    "start_time": "2023-05-25T08:19:53.419Z"
   },
   {
    "duration": 21,
    "start_time": "2023-05-25T08:19:54.217Z"
   },
   {
    "duration": 816,
    "start_time": "2023-05-25T08:19:54.251Z"
   },
   {
    "duration": 4,
    "start_time": "2023-05-25T08:19:55.069Z"
   },
   {
    "duration": 9,
    "start_time": "2023-05-25T08:19:55.075Z"
   },
   {
    "duration": 10,
    "start_time": "2023-05-25T08:19:55.086Z"
   },
   {
    "duration": 17,
    "start_time": "2023-05-25T08:19:55.097Z"
   },
   {
    "duration": 5,
    "start_time": "2023-05-25T08:19:55.115Z"
   },
   {
    "duration": 51,
    "start_time": "2023-05-25T08:19:55.121Z"
   },
   {
    "duration": 111,
    "start_time": "2023-05-25T08:19:55.252Z"
   },
   {
    "duration": 194,
    "start_time": "2023-05-25T08:19:55.365Z"
   },
   {
    "duration": 4,
    "start_time": "2023-05-25T08:19:55.651Z"
   },
   {
    "duration": 5,
    "start_time": "2023-05-25T08:19:55.657Z"
   },
   {
    "duration": 89,
    "start_time": "2023-05-25T08:19:55.663Z"
   },
   {
    "duration": 1398,
    "start_time": "2023-05-25T08:19:55.754Z"
   },
   {
    "duration": 1505,
    "start_time": "2023-05-25T08:19:57.154Z"
   },
   {
    "duration": 1345,
    "start_time": "2023-05-25T08:19:58.661Z"
   },
   {
    "duration": 1084,
    "start_time": "2023-05-25T08:35:19.861Z"
   },
   {
    "duration": 4,
    "start_time": "2023-05-25T08:35:20.947Z"
   },
   {
    "duration": 1036,
    "start_time": "2023-05-25T08:35:20.953Z"
   },
   {
    "duration": 25,
    "start_time": "2023-05-25T08:35:21.992Z"
   },
   {
    "duration": 768,
    "start_time": "2023-05-25T08:35:22.020Z"
   },
   {
    "duration": 17,
    "start_time": "2023-05-25T08:35:22.790Z"
   },
   {
    "duration": 803,
    "start_time": "2023-05-25T08:35:22.809Z"
   },
   {
    "duration": 4,
    "start_time": "2023-05-25T08:35:23.613Z"
   },
   {
    "duration": 9,
    "start_time": "2023-05-25T08:35:23.618Z"
   },
   {
    "duration": 24,
    "start_time": "2023-05-25T08:35:23.628Z"
   },
   {
    "duration": 7,
    "start_time": "2023-05-25T08:35:23.654Z"
   },
   {
    "duration": 5,
    "start_time": "2023-05-25T08:35:23.662Z"
   },
   {
    "duration": 86,
    "start_time": "2023-05-25T08:35:23.668Z"
   },
   {
    "duration": 114,
    "start_time": "2023-05-25T08:35:23.757Z"
   },
   {
    "duration": 190,
    "start_time": "2023-05-25T08:35:23.873Z"
   },
   {
    "duration": 87,
    "start_time": "2023-05-25T08:35:24.065Z"
   },
   {
    "duration": 4,
    "start_time": "2023-05-25T08:35:24.154Z"
   },
   {
    "duration": 91,
    "start_time": "2023-05-25T08:35:24.161Z"
   },
   {
    "duration": 1444,
    "start_time": "2023-05-25T08:35:24.254Z"
   },
   {
    "duration": 1363,
    "start_time": "2023-05-25T08:35:25.700Z"
   },
   {
    "duration": 1351,
    "start_time": "2023-05-25T08:35:27.065Z"
   },
   {
    "duration": 1115,
    "start_time": "2023-05-25T08:44:19.439Z"
   },
   {
    "duration": 3,
    "start_time": "2023-05-25T08:44:20.556Z"
   },
   {
    "duration": 7,
    "start_time": "2023-05-25T08:44:20.561Z"
   },
   {
    "duration": 1073,
    "start_time": "2023-05-25T08:44:20.570Z"
   },
   {
    "duration": 21,
    "start_time": "2023-05-25T08:44:21.644Z"
   },
   {
    "duration": 793,
    "start_time": "2023-05-25T08:44:21.666Z"
   },
   {
    "duration": 20,
    "start_time": "2023-05-25T08:44:22.462Z"
   },
   {
    "duration": 835,
    "start_time": "2023-05-25T08:44:22.484Z"
   },
   {
    "duration": 4,
    "start_time": "2023-05-25T08:44:23.321Z"
   },
   {
    "duration": 8,
    "start_time": "2023-05-25T08:44:23.327Z"
   },
   {
    "duration": 9,
    "start_time": "2023-05-25T08:44:23.350Z"
   },
   {
    "duration": 8,
    "start_time": "2023-05-25T08:44:23.361Z"
   },
   {
    "duration": 6,
    "start_time": "2023-05-25T08:44:23.371Z"
   },
   {
    "duration": 75,
    "start_time": "2023-05-25T08:44:23.379Z"
   },
   {
    "duration": 196,
    "start_time": "2023-05-25T08:44:23.456Z"
   },
   {
    "duration": 203,
    "start_time": "2023-05-25T08:44:23.654Z"
   },
   {
    "duration": 219,
    "start_time": "2023-05-25T08:44:23.859Z"
   },
   {
    "duration": 0,
    "start_time": "2023-05-25T08:44:24.080Z"
   },
   {
    "duration": 0,
    "start_time": "2023-05-25T08:44:24.081Z"
   },
   {
    "duration": 0,
    "start_time": "2023-05-25T08:44:24.082Z"
   },
   {
    "duration": 0,
    "start_time": "2023-05-25T08:44:24.083Z"
   },
   {
    "duration": 0,
    "start_time": "2023-05-25T08:44:24.085Z"
   },
   {
    "duration": 1112,
    "start_time": "2023-05-25T08:46:40.324Z"
   },
   {
    "duration": 3,
    "start_time": "2023-05-25T08:46:41.438Z"
   },
   {
    "duration": 36,
    "start_time": "2023-05-25T08:46:41.443Z"
   },
   {
    "duration": 1059,
    "start_time": "2023-05-25T08:46:41.482Z"
   },
   {
    "duration": 17,
    "start_time": "2023-05-25T08:46:42.549Z"
   },
   {
    "duration": 782,
    "start_time": "2023-05-25T08:46:42.568Z"
   },
   {
    "duration": 15,
    "start_time": "2023-05-25T08:46:43.352Z"
   },
   {
    "duration": 884,
    "start_time": "2023-05-25T08:46:43.369Z"
   },
   {
    "duration": 4,
    "start_time": "2023-05-25T08:46:44.255Z"
   },
   {
    "duration": 11,
    "start_time": "2023-05-25T08:46:44.261Z"
   },
   {
    "duration": 11,
    "start_time": "2023-05-25T08:46:44.274Z"
   },
   {
    "duration": 9,
    "start_time": "2023-05-25T08:46:44.287Z"
   },
   {
    "duration": 5,
    "start_time": "2023-05-25T08:46:44.298Z"
   },
   {
    "duration": 153,
    "start_time": "2023-05-25T08:46:44.305Z"
   },
   {
    "duration": 191,
    "start_time": "2023-05-25T08:46:44.461Z"
   },
   {
    "duration": 198,
    "start_time": "2023-05-25T08:46:44.654Z"
   },
   {
    "duration": 7,
    "start_time": "2023-05-25T08:46:44.854Z"
   },
   {
    "duration": 14,
    "start_time": "2023-05-25T08:46:44.950Z"
   },
   {
    "duration": 5,
    "start_time": "2023-05-25T08:46:44.966Z"
   },
   {
    "duration": 123,
    "start_time": "2023-05-25T08:46:44.973Z"
   },
   {
    "duration": 0,
    "start_time": "2023-05-25T08:46:45.099Z"
   },
   {
    "duration": 0,
    "start_time": "2023-05-25T08:46:45.100Z"
   },
   {
    "duration": 1089,
    "start_time": "2023-05-25T08:49:59.163Z"
   },
   {
    "duration": 3,
    "start_time": "2023-05-25T08:50:00.254Z"
   },
   {
    "duration": 44,
    "start_time": "2023-05-25T08:50:00.259Z"
   },
   {
    "duration": 1113,
    "start_time": "2023-05-25T08:50:00.305Z"
   },
   {
    "duration": 18,
    "start_time": "2023-05-25T08:50:01.420Z"
   },
   {
    "duration": 855,
    "start_time": "2023-05-25T08:50:01.451Z"
   },
   {
    "duration": 16,
    "start_time": "2023-05-25T08:50:02.308Z"
   },
   {
    "duration": 848,
    "start_time": "2023-05-25T08:50:02.326Z"
   },
   {
    "duration": 4,
    "start_time": "2023-05-25T08:50:03.175Z"
   },
   {
    "duration": 36,
    "start_time": "2023-05-25T08:50:03.180Z"
   },
   {
    "duration": 29,
    "start_time": "2023-05-25T08:50:03.218Z"
   },
   {
    "duration": 32,
    "start_time": "2023-05-25T08:50:03.248Z"
   },
   {
    "duration": 20,
    "start_time": "2023-05-25T08:50:03.282Z"
   },
   {
    "duration": 46,
    "start_time": "2023-05-25T08:50:03.304Z"
   },
   {
    "duration": 199,
    "start_time": "2023-05-25T08:50:03.352Z"
   },
   {
    "duration": 116,
    "start_time": "2023-05-25T08:50:03.553Z"
   },
   {
    "duration": 86,
    "start_time": "2023-05-25T08:50:03.671Z"
   },
   {
    "duration": 102,
    "start_time": "2023-05-25T08:50:03.759Z"
   },
   {
    "duration": 38,
    "start_time": "2023-05-25T08:50:03.863Z"
   },
   {
    "duration": 1448,
    "start_time": "2023-05-25T08:50:03.903Z"
   },
   {
    "duration": 1378,
    "start_time": "2023-05-25T08:50:05.353Z"
   },
   {
    "duration": 1475,
    "start_time": "2023-05-25T08:50:06.733Z"
   }
  ],
  "kernelspec": {
   "display_name": "Python 3 (ipykernel)",
   "language": "python",
   "name": "python3"
  },
  "language_info": {
   "codemirror_mode": {
    "name": "ipython",
    "version": 3
   },
   "file_extension": ".py",
   "mimetype": "text/x-python",
   "name": "python",
   "nbconvert_exporter": "python",
   "pygments_lexer": "ipython3",
   "version": "3.9.13"
  },
  "toc": {
   "base_numbering": 1,
   "nav_menu": {},
   "number_sections": true,
   "sideBar": true,
   "skip_h1_title": true,
   "title_cell": "Table of Contents",
   "title_sidebar": "Contents",
   "toc_cell": false,
   "toc_position": {},
   "toc_section_display": true,
   "toc_window_display": false
  }
 },
 "nbformat": 4,
 "nbformat_minor": 5
}
